{
  "cells": [
    {
      "cell_type": "markdown",
      "id": "365c5640",
      "metadata": {
        "id": "365c5640"
      },
      "source": [
        "\n",
        "# Movie Recommendation System\n",
        "This notebook demonstrates the implementation of a content-based Movie Recommendation System using Python and the Pandas, Scikit-learn libraries. The goal is to recommend similar movies based on textual features like genres, keywords, and cast. It demonstrates the use of TF-IDF Vectorizer in order to vectorize the movie details for recomendations.\n"
      ]
    },
    {
      "cell_type": "markdown",
      "id": "d2498d8b",
      "metadata": {
        "id": "d2498d8b"
      },
      "source": [
        "### Import Required Libraries"
      ]
    },
    {
      "cell_type": "code",
      "execution_count": 88,
      "id": "51dc423b",
      "metadata": {
        "id": "51dc423b"
      },
      "outputs": [],
      "source": [
        "\n",
        "import pandas as pd\n",
        "import numpy as np\n",
        "from sklearn.feature_extraction.text import TfidfVectorizer\n",
        "from sklearn.metrics.pairwise import cosine_similarity\n",
        "import ast\n"
      ]
    },
    {
      "cell_type": "markdown",
      "id": "652471cf",
      "metadata": {
        "id": "652471cf"
      },
      "source": [
        "### Load the Datasets"
      ]
    },
    {
      "cell_type": "code",
      "execution_count": 89,
      "id": "89bc0ebf",
      "metadata": {
        "id": "89bc0ebf"
      },
      "outputs": [],
      "source": [
        "movies_df = pd.read_csv('./tmdb_5000_movies.csv')\n",
        "credits_df = pd.read_csv('./tmdb_5000_credits.csv')\n"
      ]
    },
    {
      "cell_type": "markdown",
      "id": "083cb36c",
      "metadata": {
        "id": "083cb36c"
      },
      "source": [
        "### Merge Movies and Credits Data on Movie ID"
      ]
    },
    {
      "cell_type": "code",
      "execution_count": 90,
      "id": "a8e81a82",
      "metadata": {
        "id": "a8e81a82"
      },
      "outputs": [],
      "source": [
        "\n",
        "credits_df.rename(columns={'movie_id': 'id'}, inplace=True)\n",
        "movies_df['id'] = pd.to_numeric(movies_df['id'], errors='coerce')\n",
        "merged_df.rename(columns={'title_x': 'title'}, inplace=True)\n",
        "merged_df.dropna(subset=['overview'], inplace=True)  # drop movies without overview\n"
      ]
    },
    {
      "cell_type": "markdown",
      "id": "1aa732d0",
      "metadata": {
        "id": "1aa732d0"
      },
      "source": [
        "### Parse and Extract Key Features from JSON-like Columns"
      ]
    },
    {
      "cell_type": "code",
      "execution_count": 91,
      "id": "268db271",
      "metadata": {
        "id": "268db271"
      },
      "outputs": [],
      "source": [
        "\n",
        "def parse_cast(x):\n",
        "    try:\n",
        "        data = ast.literal_eval(x)\n",
        "        return ' '.join([i['name'] for i in data[:5]])\n",
        "    except (ValueError, SyntaxError):\n",
        "        return ''\n",
        "\n",
        "def parse_names(x):\n",
        "    try:\n",
        "        return ' '.join([i['name'] for i in ast.literal_eval(x)])\n",
        "    except (ValueError, SyntaxError):\n",
        "        return ''\n",
        "\n",
        "def get_director(x):\n",
        "    try:\n",
        "        crew = ast.literal_eval(x)\n",
        "        for member in crew:\n",
        "            if member['job'] == 'Director':\n",
        "                return member['name']\n",
        "        return ''\n",
        "    except (ValueError, SyntaxError):\n",
        "        return ''\n",
        "\n",
        "\n",
        "merged_df['cast'] = merged_df['cast'].apply(parse_cast)\n",
        "merged_df['genres'] = merged_df['genres'].apply(parse_names)\n",
        "merged_df['keywords'] = merged_df['keywords'].apply(parse_names)\n",
        "merged_df['director'] = merged_df['crew'].apply(get_director)\n",
        "\n"
      ]
    },
    {
      "cell_type": "markdown",
      "id": "97f1cbb4",
      "metadata": {
        "id": "97f1cbb4"
      },
      "source": [
        "### Combine Features into a Single Text Field"
      ]
    },
    {
      "cell_type": "code",
      "execution_count": 92,
      "id": "75084dd1",
      "metadata": {
        "id": "75084dd1"
      },
      "outputs": [],
      "source": [
        "\n",
        "merged_df['combined_features'] = merged_df['overview'] + ' ' + merged_df['genres'] + ' ' + merged_df['keywords'] + ' ' + merged_df['cast'] + ' ' + merged_df['director']\n"
      ]
    },
    {
      "cell_type": "markdown",
      "id": "be01d3e9",
      "metadata": {
        "id": "be01d3e9"
      },
      "source": [
        "### Convert Text to Vectors using TF-IDF Vectorizer"
      ]
    },
    {
      "cell_type": "code",
      "execution_count": 93,
      "id": "39b4eff3",
      "metadata": {
        "id": "39b4eff3"
      },
      "outputs": [],
      "source": [
        "\n",
        "tfidf = TfidfVectorizer(stop_words='english')\n",
        "tfidf_matrix = tfidf.fit_transform(merged_df['combined_features'])\n"
      ]
    },
    {
      "cell_type": "markdown",
      "id": "d4f7a93e",
      "metadata": {
        "id": "d4f7a93e"
      },
      "source": [
        "### Compute Cosine Similarity Matrix"
      ]
    },
    {
      "cell_type": "code",
      "execution_count": 94,
      "id": "7a5e8a12",
      "metadata": {
        "id": "7a5e8a12"
      },
      "outputs": [],
      "source": [
        "\n",
        "cosine_sim = cosine_similarity(tfidf_matrix, tfidf_matrix)\n"
      ]
    },
    {
      "cell_type": "markdown",
      "id": "3bd1ca38",
      "metadata": {
        "id": "3bd1ca38"
      },
      "source": [
        "### Define a Function to Recommend Similar Movies"
      ]
    },
    {
      "cell_type": "code",
      "execution_count": 97,
      "id": "53735eaa",
      "metadata": {
        "id": "53735eaa"
      },
      "outputs": [],
      "source": [
        "\n",
        "def recommend(title, num_recommendations=5):\n",
        "    idx = merged_df[merged_df['title'] == title].index\n",
        "    if len(idx) == 0:\n",
        "        return \"Movie not found in database.\"\n",
        "    idx = idx[0]\n",
        "    sim_scores = list(enumerate(cosine_sim[idx]))\n",
        "    sim_scores = sorted(sim_scores, key=lambda x: x[1], reverse=True)[1:num_recommendations+1]\n",
        "    movie_indices = [i[0] for i in sim_scores]\n",
        "    return merged_df['title'].iloc[movie_indices].tolist()\n"
      ]
    },
    {
      "cell_type": "markdown",
      "id": "c3234c7b",
      "metadata": {
        "id": "c3234c7b"
      },
      "source": [
        "### Test the Improved Recommender"
      ]
    },
    {
      "cell_type": "code",
      "execution_count": null,
      "id": "c3276dae",
      "metadata": {
        "colab": {
          "base_uri": "https://localhost:8080/"
        },
        "id": "c3276dae",
        "outputId": "d6b7d4dc-8d63-4fa3-c805-a8f440d4441d"
      },
      "outputs": [],
      "source": [
        "recommend(\"The Indian in the Cupboard\")\n"
      ]
    }
  ],
  "metadata": {
    "colab": {
      "provenance": []
    },
    "kernelspec": {
      "display_name": "Python 3",
      "name": "python3"
    },
    "language_info": {
      "name": "python"
    }
  },
  "nbformat": 4,
  "nbformat_minor": 5
}
