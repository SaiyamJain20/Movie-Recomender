{
  "cells": [
    {
      "cell_type": "markdown",
      "metadata": {
        "id": "6xvqqT1XentF"
      },
      "source": [
        "# Movie Recommendation System\n",
        "This notebook demonstrates the implementation of a content-based Movie Recommendation System using Python and the Pandas, Scikit-learn libraries. The goal is to recommend similar movies based on textual features like genres, keywords, and cast. It demonstrates the use of CountVectorizer in order to vectorize the movie details for recomendations."
      ]
    },
    {
      "cell_type": "markdown",
      "metadata": {
        "id": "Tb-vsKEcesVB"
      },
      "source": [
        "### Importing Required Libraries\n",
        "We begin by importing the essential libraries for data manipulation and machine learning."
      ]
    },
    {
      "cell_type": "code",
      "execution_count": 113,
      "metadata": {
        "id": "OY4ee3hMXO4S"
      },
      "outputs": [],
      "source": [
        "import numpy as np\n",
        "import pandas as pd\n",
        "import ast\n",
        "from sklearn.feature_extraction.text import CountVectorizer\n",
        "from sklearn.metrics.pairwise import cosine_similarity\n",
        "import pickle"
      ]
    },
    {
      "cell_type": "markdown",
      "metadata": {
        "id": "GUZLR_lJevxD"
      },
      "source": [
        "### Loading the Dataset\n",
        "The dataset containing movie details is loaded using `pandas`."
      ]
    },
    {
      "cell_type": "code",
      "execution_count": 114,
      "metadata": {
        "id": "FuhjgMuBXm3r"
      },
      "outputs": [],
      "source": [
        "movies = pd.read_csv('./tmdb_5000_movies.csv')\n",
        "credits = pd.read_csv('./tmdb_5000_credits.csv')"
      ]
    },
    {
      "cell_type": "markdown",
      "metadata": {
        "id": "ukfYJUO9ey9C"
      },
      "source": [
        "### Inspecting the Dataset\n",
        "Let's check the first few rows and get a feel for the data structure."
      ]
    },
    {
      "cell_type": "code",
      "execution_count": null,
      "metadata": {
        "colab": {
          "base_uri": "https://localhost:8080/",
          "height": 323
        },
        "id": "NfKl_Sbqe1Ty",
        "outputId": "4bb0c116-3700-4931-ccbc-e00b1f822ac4"
      },
      "outputs": [],
      "source": [
        "movies.head(2)"
      ]
    },
    {
      "cell_type": "code",
      "execution_count": null,
      "metadata": {
        "colab": {
          "base_uri": "https://localhost:8080/"
        },
        "id": "sqLjzOrgX07m",
        "outputId": "d9d2be1d-43bc-4d8c-8f65-80dcb94f2074"
      },
      "outputs": [],
      "source": [
        "movies.shape"
      ]
    },
    {
      "cell_type": "markdown",
      "metadata": {
        "id": "wuhl27aKe9bW"
      },
      "source": [
        "### Selecting Relevant Features\n",
        "We extract important features from the dataset that will be used to compute similarity between movies."
      ]
    },
    {
      "cell_type": "code",
      "execution_count": 117,
      "metadata": {
        "id": "8w6VkKJXX5-k"
      },
      "outputs": [],
      "source": [
        "movies = movies.merge(credits,on='title')"
      ]
    },
    {
      "cell_type": "code",
      "execution_count": 118,
      "metadata": {
        "id": "zkFc-sU8X8D9"
      },
      "outputs": [],
      "source": [
        "movies = movies[['movie_id','title','overview','genres','keywords','cast','crew']]"
      ]
    },
    {
      "cell_type": "code",
      "execution_count": null,
      "metadata": {
        "colab": {
          "base_uri": "https://localhost:8080/",
          "height": 181
        },
        "id": "LUeOluFXX96D",
        "outputId": "55a056da-63b1-4641-9b4d-a139daa349ac"
      },
      "outputs": [],
      "source": [
        "movies.head(2)"
      ]
    },
    {
      "cell_type": "markdown",
      "metadata": {
        "id": "xys1RyIYfAsh"
      },
      "source": [
        "### Handling Missing Values\n",
        "Any missing entries in the selected features are filled with empty strings to avoid processing errors."
      ]
    },
    {
      "cell_type": "code",
      "execution_count": 120,
      "metadata": {
        "id": "NSZsEVZ3YAZD"
      },
      "outputs": [],
      "source": [
        "movies.dropna(inplace=True)"
      ]
    },
    {
      "cell_type": "code",
      "execution_count": null,
      "metadata": {
        "colab": {
          "base_uri": "https://localhost:8080/",
          "height": 181
        },
        "id": "rS3yucQlYHKm",
        "outputId": "f65b1845-85e3-4065-92f1-8c4f1a85bb4a"
      },
      "outputs": [],
      "source": [
        "def convert(text):\n",
        "    L = []\n",
        "    for i in ast.literal_eval(text):\n",
        "        L.append(i['name'])\n",
        "    return L\n",
        "\n",
        "movies['genres'] = movies['genres'].apply(convert)\n",
        "movies.head(2)"
      ]
    },
    {
      "cell_type": "code",
      "execution_count": null,
      "metadata": {
        "colab": {
          "base_uri": "https://localhost:8080/",
          "height": 181
        },
        "id": "OJ1VQEUSYJBO",
        "outputId": "8db97534-c65f-4964-bbc2-acd8361900a9"
      },
      "outputs": [],
      "source": [
        "movies['keywords'] = movies['keywords'].apply(convert)\n",
        "movies.head(2)"
      ]
    },
    {
      "cell_type": "code",
      "execution_count": null,
      "metadata": {
        "colab": {
          "base_uri": "https://localhost:8080/",
          "height": 181
        },
        "id": "uNvWYsZ_YWXt",
        "outputId": "9eb861d1-ff09-40c6-ac72-f839ae728080"
      },
      "outputs": [],
      "source": [
        "movies['cast'] = movies['cast'].apply(convert)\n",
        "movies.head(2)"
      ]
    },
    {
      "cell_type": "code",
      "execution_count": 124,
      "metadata": {
        "id": "qW6_x4Q9YY9t"
      },
      "outputs": [],
      "source": [
        "movies['cast'] = movies['cast'].apply(lambda x:x[0:3])"
      ]
    },
    {
      "cell_type": "code",
      "execution_count": 125,
      "metadata": {
        "id": "Vvw6UDLvYcUn"
      },
      "outputs": [],
      "source": [
        "def fetch_director(text):\n",
        "    L = []\n",
        "    for i in ast.literal_eval(text):\n",
        "        if i['job'] == 'Director':\n",
        "            L.append(i['name'])\n",
        "    return L\n",
        "\n",
        "movies['crew'] = movies['crew'].apply(fetch_director)"
      ]
    },
    {
      "cell_type": "code",
      "execution_count": null,
      "metadata": {
        "colab": {
          "base_uri": "https://localhost:8080/",
          "height": 310
        },
        "id": "gwNxr5oDYgmu",
        "outputId": "5bbcde35-70e3-4056-bea7-d48abb2bde4f"
      },
      "outputs": [],
      "source": [
        "def collapse(L):\n",
        "    L1 = []\n",
        "    for i in L:\n",
        "        L1.append(i.replace(\" \",\"\"))\n",
        "    return L1\n",
        "\n",
        "movies['cast'] = movies['cast'].apply(collapse)\n",
        "movies['crew'] = movies['crew'].apply(collapse)\n",
        "movies['genres'] = movies['genres'].apply(collapse)\n",
        "movies['keywords'] = movies['keywords'].apply(collapse)\n",
        "movies.head()"
      ]
    },
    {
      "cell_type": "markdown",
      "metadata": {
        "id": "VhRwBQyBfMBw"
      },
      "source": [
        "### Combining Features into a Single String\n",
        "We combine multiple textual features into a single string per movie, which will be vectorized later."
      ]
    },
    {
      "cell_type": "code",
      "execution_count": null,
      "metadata": {
        "colab": {
          "base_uri": "https://localhost:8080/",
          "height": 206
        },
        "id": "f0lxJSvMYmaT",
        "outputId": "3b0b4c2f-e0dc-4873-a108-3e45603ab9a2"
      },
      "outputs": [],
      "source": [
        "movies['overview'] = movies['overview'].apply(lambda x:x.split())\n",
        "\n",
        "movies['tags'] = movies['overview'] + movies['genres'] + movies['keywords'] + movies['cast'] + movies['crew']\n",
        "\n",
        "new = movies.drop(columns=['overview','genres','keywords','cast','crew'])\n",
        "\n",
        "new['tags'] = new['tags'].apply(lambda x: \" \".join(x))\n",
        "new.head()"
      ]
    },
    {
      "cell_type": "markdown",
      "metadata": {
        "id": "MIwA7McIfO5m"
      },
      "source": [
        "### Text Vectorization using CountVectorizer\n",
        "We convert the combined text features into numerical vectors using the Bag of Words (CountVectorizer) technique."
      ]
    },
    {
      "cell_type": "code",
      "execution_count": null,
      "metadata": {
        "colab": {
          "base_uri": "https://localhost:8080/"
        },
        "id": "Izs3vR7CYzBN",
        "outputId": "934395cb-d4a5-4665-ef9c-540c91e6d118"
      },
      "outputs": [],
      "source": [
        "cv = CountVectorizer(max_features=5000,stop_words='english')\n",
        "vector = cv.fit_transform(new['tags']).toarray()\n",
        "\n",
        "vector.shape"
      ]
    },
    {
      "cell_type": "markdown",
      "metadata": {
        "id": "1RjWLdzifQ98"
      },
      "source": [
        "### Calculating Cosine Similarity Between Movies\n",
        "Using the generated vectors, we compute the pairwise cosine similarity between all movies."
      ]
    },
    {
      "cell_type": "code",
      "execution_count": null,
      "metadata": {
        "colab": {
          "base_uri": "https://localhost:8080/"
        },
        "id": "pcLL8VDtY6iv",
        "outputId": "56828b56-9559-4f50-c8ab-55a07bdc7ea6"
      },
      "outputs": [],
      "source": [
        "similarity = cosine_similarity(vector)\n",
        "\n",
        "similarity"
      ]
    },
    {
      "cell_type": "markdown",
      "metadata": {
        "id": "HdkgOq5FfS7O"
      },
      "source": [
        "### Defining the Recommendation Function\n",
        "A function is defined to recommend movies similar to a given movie based on cosine similarity scores."
      ]
    },
    {
      "cell_type": "code",
      "execution_count": 135,
      "metadata": {
        "id": "OnrG4I0PY_J2"
      },
      "outputs": [],
      "source": [
        "def recommend(movie, length = 5):\n",
        "    index = new[new['title'] == movie].index[0]\n",
        "    distances = sorted(list(enumerate(similarity[index])),reverse=True,key = lambda x: x[1])\n",
        "    for i in distances[1:length + 1]:\n",
        "        print(new.iloc[i[0]].title)"
      ]
    },
    {
      "cell_type": "markdown",
      "metadata": {
        "id": "1tzJS0GLfczE"
      },
      "source": [
        "### Testing the Recommendation System\n",
        "We now test the recommendation function with a sample movie name."
      ]
    },
    {
      "cell_type": "code",
      "execution_count": null,
      "metadata": {
        "colab": {
          "base_uri": "https://localhost:8080/"
        },
        "id": "Q1cQpAEMfdpK",
        "outputId": "a3444991-07f0-4580-bc40-16f73211f81b"
      },
      "outputs": [],
      "source": [
        "recommend('The Indian in the Cupboard')"
      ]
    }
  ],
  "metadata": {
    "colab": {
      "provenance": []
    },
    "kernelspec": {
      "display_name": "Python 3",
      "name": "python3"
    },
    "language_info": {
      "name": "python"
    }
  },
  "nbformat": 4,
  "nbformat_minor": 0
}
